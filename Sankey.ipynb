{
 "cells": [
  {
   "cell_type": "code",
   "execution_count": null,
   "metadata": {},
   "outputs": [],
   "source": [
    "import os\n",
    "import json\n",
    "import numpy as np\n",
    "import pandas as pd\n",
    "\n",
    "import chart_studio.plotly as py\n",
    "import plotly.graph_objects as go"
   ]
  },
  {
   "cell_type": "code",
   "execution_count": null,
   "metadata": {},
   "outputs": [],
   "source": [
    "os.makedirs(\"figures\", exist_ok=True)"
   ]
  },
  {
   "cell_type": "code",
   "execution_count": null,
   "metadata": {},
   "outputs": [],
   "source": [
    "# equivalent = pd.read_excel(\"data/GHG_EmissionsData.xlsx\", skiprows=4, index_col=0, sheet_name=\"CO2e\")\n",
    "carbon = pd.read_excel(\"data/GHG_EmissionsData.xlsx\", skiprows=4, index_col=0, sheet_name=\"CO2\")\n",
    "methane = pd.read_excel(\"data/GHG_EmissionsData.xlsx\", skiprows=4, index_col=0, sheet_name=\"CH4\")\n",
    "nitrous = pd.read_excel(\"data/GHG_EmissionsData.xlsx\", skiprows=4, index_col=0, sheet_name=\"N2O\")"
   ]
  },
  {
   "cell_type": "code",
   "execution_count": null,
   "metadata": {},
   "outputs": [],
   "source": [
    "year = \"2018\"\n",
    "for missing in [\"NO\", \"NE\", \"NO,NA\"]:\n",
    "    carbon[year][carbon[year] == missing] = 0\n",
    "    nitrous[year][nitrous[year] == missing] = 0\n",
    "    methane[year][methane[year] == missing] = 0\n",
    "    \n",
    "    carbon.fillna(0.0, inplace=True)\n",
    "    nitrous.fillna(0.0, inplace=True)\n",
    "    methane.fillna(0.0, inplace=True)"
   ]
  },
  {
   "cell_type": "code",
   "execution_count": null,
   "metadata": {},
   "outputs": [],
   "source": [
    "with open(\"data/structure.json\", \"r\") as f:\n",
    "    structure = json.load(f)"
   ]
  },
  {
   "cell_type": "code",
   "execution_count": null,
   "metadata": {},
   "outputs": [],
   "source": [
    "carbon_scaling = 1"
   ]
  },
  {
   "cell_type": "code",
   "execution_count": null,
   "metadata": {},
   "outputs": [],
   "source": [
    "sources = []\n",
    "targets = []\n",
    "value = []\n",
    "labels = []\n",
    "\n",
    "\n",
    "def add_items(source, target):\n",
    "    if source not in labels:\n",
    "        labels.append(source)\n",
    "    if target not in labels:\n",
    "        labels.append(target)\n",
    "    sources.append(labels.index(source))\n",
    "    targets.append(labels.index(target))\n",
    "\n",
    "\n",
    "start = list(structure.keys())[3]\n",
    "s = structure[start]\n",
    "\n",
    "for val in s:\n",
    "    add_items(start, val)\n",
    "    value.append(\n",
    "        abs(carbon.loc[val, year]) * carbon_scaling  +  nitrous.loc[val, year] + methane.loc[val, year]\n",
    "    )\n",
    "        \n",
    "    # Final level\n",
    "    for t in [\"CO2\", \"N2O\", \"CH4\"]:\n",
    "        add_items(val, t)\n",
    "        if t == \"CO2\":\n",
    "            value.append(abs(carbon.loc[val, year]) * carbon_scaling)\n",
    "        elif t == \"N2O\":\n",
    "            value.append(nitrous.loc[val, year])\n",
    "        elif t == \"CH4\":\n",
    "            value.append(methane.loc[val, year])\n"
   ]
  },
  {
   "cell_type": "code",
   "execution_count": null,
   "metadata": {},
   "outputs": [],
   "source": [
    "fig = go.Figure(data=[go.Sankey(\n",
    "    node=dict(\n",
    "        pad=15,\n",
    "        thickness=20,\n",
    "        line=dict(color=\"black\", width=0.5),\n",
    "        label=labels,\n",
    "        color=\"blue\"\n",
    "    ),\n",
    "    link=dict(\n",
    "        source=sources,\n",
    "        target=targets,\n",
    "        value=value\n",
    "    ))])\n",
    "\n",
    "fig.update_layout(title_text=\"Basic Sankey Diagram\", font_size=10)\n",
    "fig.show()"
   ]
  },
  {
   "cell_type": "code",
   "execution_count": null,
   "metadata": {},
   "outputs": [],
   "source": []
  },
  {
   "cell_type": "code",
   "execution_count": null,
   "metadata": {},
   "outputs": [],
   "source": [
    "sources = []\n",
    "targets = []\n",
    "value = []\n",
    "labels = []\n",
    "\n",
    "\n",
    "def add_items(source, target):\n",
    "    if source not in labels:\n",
    "        labels.append(source)\n",
    "    if target not in labels:\n",
    "        labels.append(target)\n",
    "    sources.append(labels.index(source))\n",
    "    targets.append(labels.index(target))\n",
    "\n",
    "\n",
    "start = list(structure.keys())[0]\n",
    "s = structure[start]\n",
    "\n",
    "for key, val in s.items():\n",
    "    add_items(start, key)\n",
    "    value.append(\n",
    "        carbon.loc[key, year] * carbon_scaling +  nitrous.loc[key, year] + methane.loc[key, year]\n",
    "    )\n",
    "\n",
    "    if not val:\n",
    "        for t in [\"CO2\", \"N2O\", \"CH4\"]:\n",
    "            add_items(key, t)\n",
    "            if t == \"CO2\":\n",
    "                value.append(carbon.loc[key, year] * carbon_scaling)\n",
    "            elif t == \"N2O\":\n",
    "                value.append(nitrous.loc[key, year])\n",
    "            elif t == \"CH4\":\n",
    "                value.append(methane.loc[key, year])\n",
    "\n",
    "    for v in val:\n",
    "        value.append(\n",
    "            abs(carbon.loc[v, year]) * carbon_scaling +  nitrous.loc[v, year] + methane.loc[v, year]\n",
    "        )\n",
    "        add_items(key, v)\n",
    "        \n",
    "        # Final level\n",
    "        for t in [\"CO2\", \"N2O\", \"CH4\"]:\n",
    "            add_items(v, t)\n",
    "            if t == \"CO2\":\n",
    "                value.append(abs(carbon.loc[v, year]) * carbon_scaling)\n",
    "            elif t == \"N2O\":\n",
    "                value.append(nitrous.loc[v, year])\n",
    "            elif t == \"CH4\":\n",
    "                value.append(methane.loc[v, year])\n"
   ]
  },
  {
   "cell_type": "code",
   "execution_count": null,
   "metadata": {},
   "outputs": [],
   "source": [
    "fig = go.Figure(data=[go.Sankey(\n",
    "    node=dict(\n",
    "        pad=15,\n",
    "        thickness=20,\n",
    "        line=dict(color=\"black\", width=0.5),\n",
    "        label=labels,\n",
    "        color=\"blue\"\n",
    "    ),\n",
    "    link=dict(\n",
    "        source=sources,\n",
    "        target=targets,\n",
    "        value=value\n",
    "    ))])\n",
    "\n",
    "fig.update_layout(title_text=\"Basic Sankey Diagram\", font_size=10)\n",
    "fig.show()"
   ]
  },
  {
   "cell_type": "code",
   "execution_count": null,
   "metadata": {},
   "outputs": [],
   "source": []
  },
  {
   "cell_type": "code",
   "execution_count": null,
   "metadata": {},
   "outputs": [],
   "source": [
    "sources = []\n",
    "targets = []\n",
    "value = []\n",
    "labels = []\n",
    "\n",
    "\n",
    "def add_items(source, target):\n",
    "    if source not in labels:\n",
    "        labels.append(source)\n",
    "    if target not in labels:\n",
    "        labels.append(target)\n",
    "    sources.append(labels.index(source))\n",
    "    targets.append(labels.index(target))\n",
    "\n",
    "\n",
    "for start in list(structure.keys()):\n",
    "    s = structure[start]\n",
    "\n",
    "    if type(s) is dict:\n",
    "\n",
    "        for key, val in s.items():\n",
    "            add_items(start, key)\n",
    "            value.append(\n",
    "                carbon.loc[key, year] * carbon_scaling +  nitrous.loc[key, year] + methane.loc[key, year]\n",
    "            )\n",
    "\n",
    "            if not val:\n",
    "                for t in [\"CO2\", \"N2O\", \"CH4\"]:\n",
    "                    add_items(key, t)\n",
    "                    if t == \"CO2\":\n",
    "                        value.append(carbon.loc[key, year])\n",
    "                    elif t == \"N2O\":\n",
    "                        value.append(nitrous.loc[key, year])\n",
    "                    elif t == \"CH4\":\n",
    "                        value.append(methane.loc[key, year])\n",
    "\n",
    "            for v in val:\n",
    "                value.append(\n",
    "                    carbon.loc[v, year] * carbon_scaling +  nitrous.loc[v, year] + methane.loc[v, year]\n",
    "                )\n",
    "                add_items(key, v)\n",
    "\n",
    "                # Final level\n",
    "                for t in [\"CO2\", \"N2O\", \"CH4\"]:\n",
    "                    add_items(v, t)\n",
    "                    if t == \"CO2\":\n",
    "                        value.append(carbon.loc[v, year] * carbon_scaling)\n",
    "                    elif t == \"N2O\":\n",
    "                        value.append(nitrous.loc[v, year])\n",
    "                    elif t == \"CH4\":\n",
    "                        value.append(methane.loc[v, year])\n",
    "\n",
    "    else:\n",
    "        for val in s:\n",
    "            add_items(start, val)\n",
    "            value.append(\n",
    "                abs(carbon.loc[val, year]) * carbon_scaling +  nitrous.loc[val, year] + methane.loc[val, year]\n",
    "            )\n",
    "\n",
    "            # Final level\n",
    "            for t in [\"CO2\", \"N2O\", \"CH4\"]:\n",
    "                add_items(val, t)\n",
    "                if t == \"CO2\":\n",
    "                    value.append(abs(carbon.loc[val, year]) * carbon_scaling)\n",
    "                elif t == \"N2O\":\n",
    "                    value.append(nitrous.loc[val, year])\n",
    "                elif t == \"CH4\":\n",
    "                    value.append(methane.loc[val, year])\n"
   ]
  },
  {
   "cell_type": "code",
   "execution_count": null,
   "metadata": {},
   "outputs": [],
   "source": [
    "fig = go.Figure(data=[go.Sankey(\n",
    "    node=dict(\n",
    "        pad=15,\n",
    "        thickness=20,\n",
    "        line=dict(color=\"black\", width=0.5),\n",
    "        label=labels,\n",
    "        color=\"blue\"\n",
    "    ),\n",
    "    link=dict(\n",
    "        source=sources,\n",
    "        target=targets,\n",
    "        value=value\n",
    "    ))])\n",
    "\n",
    "fig.update_layout(title_text=f\"Danish GHG Emissions in {year}\", font_size=10)\n",
    "fig.show()"
   ]
  },
  {
   "cell_type": "code",
   "execution_count": null,
   "metadata": {},
   "outputs": [],
   "source": []
  },
  {
   "cell_type": "code",
   "execution_count": null,
   "metadata": {},
   "outputs": [],
   "source": [
    "flows = pd.DataFrame(data={\n",
    "    'source_id': sources,\n",
    "    'target_id': targets,\n",
    "    'source': [labels[s] for s in sources],\n",
    "    'target': [labels[t] for t in targets],\n",
    "    'value': value\n",
    "})"
   ]
  },
  {
   "cell_type": "code",
   "execution_count": null,
   "metadata": {},
   "outputs": [],
   "source": [
    "flows[\"node_color\"] = ''\n",
    "flows[\"link_color\"] = ''"
   ]
  },
  {
   "cell_type": "code",
   "execution_count": null,
   "metadata": {},
   "outputs": [],
   "source": [
    "flows"
   ]
  },
  {
   "cell_type": "code",
   "execution_count": null,
   "metadata": {},
   "outputs": [],
   "source": [
    "fig = go.Figure(data=[go.Sankey(\n",
    "    valueformat = \".1f\",\n",
    "    node=dict(\n",
    "        pad=15,\n",
    "        thickness=20,\n",
    "        line=dict(color=\"black\", width=0.5),\n",
    "        label=labels,\n",
    "        color=\"blue\"\n",
    "    ),\n",
    "    link=dict(\n",
    "        source=sources,\n",
    "        target=targets,\n",
    "        value=value,\n",
    "        color=\"lightgrey\"\n",
    "    ))])\n",
    "\n",
    "fig.update_layout(title_text=f\"Danish GHG Emissions in {year}\", font_size=10)\n",
    "fig.show(config={\"responsive\": True, \"displayModeBar\": False})"
   ]
  },
  {
   "cell_type": "code",
   "execution_count": null,
   "metadata": {},
   "outputs": [],
   "source": [
    "fig.write_html(\"figures/sankey.html\", config={\"responsive\": True, \"displayModeBar\": False})"
   ]
  },
  {
   "cell_type": "code",
   "execution_count": null,
   "metadata": {},
   "outputs": [],
   "source": [
    "fig.write_image(\"figures/sankey.svg\", width=1920, height=1080, scale=1)"
   ]
  }
 ],
 "metadata": {
  "kernelspec": {
   "display_name": "Python 3",
   "language": "python",
   "name": "python3"
  },
  "language_info": {
   "codemirror_mode": {
    "name": "ipython",
    "version": 3
   },
   "file_extension": ".py",
   "mimetype": "text/x-python",
   "name": "python",
   "nbconvert_exporter": "python",
   "pygments_lexer": "ipython3"
  },
  "toc": {
   "base_numbering": 1,
   "nav_menu": {},
   "number_sections": true,
   "sideBar": true,
   "skip_h1_title": false,
   "title_cell": "Table of Contents",
   "title_sidebar": "Contents",
   "toc_cell": false,
   "toc_position": {},
   "toc_section_display": true,
   "toc_window_display": false
  }
 },
 "nbformat": 4,
 "nbformat_minor": 2
}
