{
 "cells": [
  {
   "cell_type": "code",
   "execution_count": null,
   "metadata": {},
   "outputs": [],
   "source": [
    "import os\n",
    "import json\n",
    "import numpy as np\n",
    "import pandas as pd\n",
    "import re\n",
    "\n",
    "import chart_studio.plotly as py\n",
    "import plotly.graph_objects as go"
   ]
  },
  {
   "cell_type": "code",
   "execution_count": null,
   "metadata": {},
   "outputs": [],
   "source": [
    "os.makedirs(\"figures\", exist_ok=True)"
   ]
  },
  {
   "cell_type": "code",
   "execution_count": null,
   "metadata": {},
   "outputs": [],
   "source": [
    "# equivalent = pd.read_excel(\"data/GHG_EmissionsData.xlsx\", skiprows=4, index_col=0, sheet_name=\"CO2e\")\n",
    "carbon = pd.read_excel(\"data/GHG_EmissionsData.xlsx\", skiprows=4, index_col=0, sheet_name=\"CO2\")\n",
    "methane = pd.read_excel(\"data/GHG_EmissionsData.xlsx\", skiprows=4, index_col=0, sheet_name=\"CH4\")\n",
    "nitrous = pd.read_excel(\"data/GHG_EmissionsData.xlsx\", skiprows=4, index_col=0, sheet_name=\"N2O\")"
   ]
  },
  {
   "cell_type": "code",
   "execution_count": null,
   "metadata": {},
   "outputs": [],
   "source": [
    "year = \"2018\"\n",
    "for missing in [\"NO\", \"NE\", \"NO,NA\"]:\n",
    "    carbon[year][carbon[year] == missing] = 0\n",
    "    nitrous[year][nitrous[year] == missing] = 0\n",
    "    methane[year][methane[year] == missing] = 0\n",
    "    \n",
    "    carbon.fillna(0.0, inplace=True)\n",
    "    nitrous.fillna(0.0, inplace=True)\n",
    "    methane.fillna(0.0, inplace=True)"
   ]
  },
  {
   "cell_type": "code",
   "execution_count": null,
   "metadata": {},
   "outputs": [],
   "source": [
    "with open(\"data/structure_pretty.json\", \"r\") as f:\n",
    "    structure = json.load(f)"
   ]
  },
  {
   "cell_type": "code",
   "execution_count": null,
   "metadata": {},
   "outputs": [],
   "source": [
    "with open(\"data/labels.json\", \"r\") as f:\n",
    "    label_dict = json.load(f)"
   ]
  },
  {
   "cell_type": "code",
   "execution_count": null,
   "metadata": {},
   "outputs": [],
   "source": [
    "carbon_scaling = 1"
   ]
  },
  {
   "cell_type": "code",
   "execution_count": null,
   "metadata": {},
   "outputs": [],
   "source": [
    "sources = []\n",
    "targets = []\n",
    "value = []\n",
    "labels = []\n",
    "\n",
    "\n",
    "def add_items(source, target):\n",
    "    if source not in labels:\n",
    "        labels.append(source)\n",
    "    if target not in labels:\n",
    "        labels.append(target)\n",
    "    sources.append(labels.index(source))\n",
    "    targets.append(labels.index(target))\n",
    "\n",
    "\n",
    "for start in list(structure.keys()):\n",
    "    s = structure[start]\n",
    "\n",
    "    if type(s) is dict:\n",
    "\n",
    "        for key, val in s.items():\n",
    "            add_items(start, key)\n",
    "            value.append(\n",
    "                carbon.loc[key, year] * carbon_scaling +  nitrous.loc[key, year] + methane.loc[key, year]\n",
    "            )\n",
    "\n",
    "            if not val:\n",
    "                for t in [\"CO2\", \"N2O\", \"CH4\"]:\n",
    "                    add_items(key, t)\n",
    "                    if t == \"CO2\":\n",
    "                        value.append(carbon.loc[key, year])\n",
    "                    elif t == \"N2O\":\n",
    "                        value.append(nitrous.loc[key, year])\n",
    "                    elif t == \"CH4\":\n",
    "                        value.append(methane.loc[key, year])\n",
    "\n",
    "            for v in val:\n",
    "                value.append(\n",
    "                    carbon.loc[v, year] * carbon_scaling +  nitrous.loc[v, year] + methane.loc[v, year]\n",
    "                )\n",
    "                add_items(key, v)\n",
    "\n",
    "                # Final level\n",
    "                for t in [\"CO2\", \"N2O\", \"CH4\"]:\n",
    "                    add_items(v, t)\n",
    "                    if t == \"CO2\":\n",
    "                        value.append(carbon.loc[v, year] * carbon_scaling)\n",
    "                    elif t == \"N2O\":\n",
    "                        value.append(nitrous.loc[v, year])\n",
    "                    elif t == \"CH4\":\n",
    "                        value.append(methane.loc[v, year])\n",
    "\n",
    "    else:\n",
    "        for val in s:\n",
    "            add_items(start, val)\n",
    "            value.append(\n",
    "                abs(carbon.loc[val, year]) * carbon_scaling +  nitrous.loc[val, year] + methane.loc[val, year]\n",
    "            )\n",
    "\n",
    "            # Final level\n",
    "            for t in [\"CO2\", \"N2O\", \"CH4\"]:\n",
    "                add_items(val, t)\n",
    "                if t == \"CO2\":\n",
    "                    value.append(abs(carbon.loc[val, year]) * carbon_scaling)\n",
    "                elif t == \"N2O\":\n",
    "                    value.append(nitrous.loc[val, year])\n",
    "                elif t == \"CH4\":\n",
    "                    value.append(methane.loc[val, year])\n"
   ]
  },
  {
   "cell_type": "code",
   "execution_count": null,
   "metadata": {},
   "outputs": [],
   "source": []
  },
  {
   "cell_type": "code",
   "execution_count": null,
   "metadata": {},
   "outputs": [],
   "source": [
    "flows = pd.DataFrame(data={\n",
    "    'source_id': sources,\n",
    "    'target_id': targets,\n",
    "    'source': [labels[s] for s in sources],\n",
    "    'target': [labels[t] for t in targets],\n",
    "    'value': value\n",
    "})"
   ]
  },
  {
   "cell_type": "code",
   "execution_count": null,
   "metadata": {},
   "outputs": [],
   "source": [
    "with open(\"data/colors.json\", \"r\") as f:\n",
    "    colors = json.load(f)"
   ]
  },
  {
   "cell_type": "code",
   "execution_count": null,
   "metadata": {},
   "outputs": [],
   "source": [
    "flows[\"link_color\"] = [colors[s] for s in flows.source]"
   ]
  },
  {
   "cell_type": "code",
   "execution_count": null,
   "metadata": {},
   "outputs": [],
   "source": [
    "fig = go.Figure(data=[go.Sankey(\n",
    "    valueformat = \".1f\",\n",
    "    arrangement=\"perpendicular\",\n",
    "    orientation=\"h\",\n",
    "    node=dict(\n",
    "        pad=8,\n",
    "        thickness=10,\n",
    "        line=dict(color=\"black\", width=0.5),\n",
    "        label=[label_dict[l] for l in labels],\n",
    "        color=[re.sub(', \\.\\d', '', colors[l]).replace(\"rgba\", \"rgb\") for l in labels]\n",
    "    ),\n",
    "    link=dict(\n",
    "        source=flows[\"source_id\"],\n",
    "        target=flows[\"target_id\"],\n",
    "        value=flows[\"value\"],\n",
    "        color=flows[\"link_color\"],\n",
    "    ))])\n",
    "\n",
    "fig.update_layout(title_text=f\"Danish GHG Emissions in {year}\", font_size=10)\n",
    "fig.show(config={\"responsive\": True, \"displayModeBar\": False})"
   ]
  },
  {
   "cell_type": "code",
   "execution_count": null,
   "metadata": {},
   "outputs": [],
   "source": []
  },
  {
   "cell_type": "code",
   "execution_count": null,
   "metadata": {},
   "outputs": [],
   "source": [
    "# fig.write_html(\"figures/sankey.html\", config={\"responsive\": True, \"displayModeBar\": False})"
   ]
  },
  {
   "cell_type": "code",
   "execution_count": null,
   "metadata": {},
   "outputs": [],
   "source": [
    "fig.write_image(\"figures/sankey-medium.svg\", width=1920, height=1080, scale=1)\n",
    "fig.write_image(\"figures/sankey-medium.png\", width=1920, height=1080, scale=1)"
   ]
  },
  {
   "cell_type": "code",
   "execution_count": null,
   "metadata": {},
   "outputs": [],
   "source": []
  },
  {
   "cell_type": "code",
   "execution_count": null,
   "metadata": {},
   "outputs": [],
   "source": [
    "import plotly.graph_objects as go\n",
    "import urllib, json\n",
    "\n",
    "url = 'https://raw.githubusercontent.com/plotly/plotly.js/master/test/image/mocks/sankey_energy.json'\n",
    "response = urllib.request.urlopen(url)\n",
    "data = json.loads(response.read())\n",
    "\n",
    "# override gray link colors with 'source' colors\n",
    "opacity = 0.4\n",
    "# change 'magenta' to its 'rgba' value to add opacity\n",
    "data['data'][0]['node']['color'] = ['rgba(255,0,255, 0.8)' if color == \"magenta\" else color for color in data['data'][0]['node']['color']]\n",
    "data['data'][0]['link']['color'] = [data['data'][0]['node']['color'][src].replace(\"0.8\", str(opacity))\n",
    "                                    for src in data['data'][0]['link']['source']]"
   ]
  },
  {
   "cell_type": "code",
   "execution_count": null,
   "metadata": {},
   "outputs": [],
   "source": [
    "fig = go.Figure(data=[go.Sankey(\n",
    "    valueformat = \".0f\",\n",
    "    valuesuffix = \"TWh\",\n",
    "    # Define nodes\n",
    "    node = dict(\n",
    "      pad = 0,\n",
    "      thickness = 15,\n",
    "      line = dict(color = \"black\", width = 0.5),\n",
    "      label =  data['data'][0]['node']['label'],\n",
    "      color =  data['data'][0]['node']['color']\n",
    "    ),\n",
    "    # Add links\n",
    "    link = dict(\n",
    "      source =  data['data'][0]['link']['source'],\n",
    "      target =  data['data'][0]['link']['target'],\n",
    "      value =  data['data'][0]['link']['value'],\n",
    "      label =  data['data'][0]['link']['label'],\n",
    "      color =  data['data'][0]['link']['color']\n",
    "))])\n",
    "\n",
    "fig.update_layout(title_text=\"Energy forecast for 2050<br>Source: Department of Energy & Climate Change, Tom Counsell via <a href='https://bost.ocks.org/mike/sankey/'>Mike Bostock</a>\",\n",
    "                  font_size=10)\n",
    "fig.show()"
   ]
  }
 ],
 "metadata": {
  "kernelspec": {
   "display_name": "Python 3",
   "language": "python",
   "name": "python3"
  },
  "language_info": {
   "codemirror_mode": {
    "name": "ipython",
    "version": 3
   },
   "file_extension": ".py",
   "mimetype": "text/x-python",
   "name": "python",
   "nbconvert_exporter": "python",
   "pygments_lexer": "ipython3"
  },
  "toc": {
   "base_numbering": 1,
   "nav_menu": {},
   "number_sections": true,
   "sideBar": true,
   "skip_h1_title": false,
   "title_cell": "Table of Contents",
   "title_sidebar": "Contents",
   "toc_cell": false,
   "toc_position": {},
   "toc_section_display": true,
   "toc_window_display": false
  }
 },
 "nbformat": 4,
 "nbformat_minor": 2
}
